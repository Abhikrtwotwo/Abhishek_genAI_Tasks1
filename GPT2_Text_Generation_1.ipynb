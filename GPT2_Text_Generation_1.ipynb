{
 "cells": [
  {
   "cell_type": "code",
   "execution_count": 16,
   "metadata": {
    "colab": {
     "base_uri": "https://localhost:8080/"
    },
    "id": "_TE4XpTaxZKF",
    "outputId": "bc77328f-8f25-4aca-803a-df6f3fb850c4"
   },
   "outputs": [
    {
     "name": "stdout",
     "output_type": "stream",
     "text": [
      "Defaulting to user installation because normal site-packages is not writeable\n",
      "Requirement already satisfied: transformers in c:\\users\\hp\\appdata\\roaming\\python\\python312\\site-packages (4.55.0)\n",
      "Requirement already satisfied: filelock in c:\\users\\hp\\appdata\\roaming\\python\\python312\\site-packages (from transformers) (3.18.0)\n",
      "Requirement already satisfied: huggingface-hub<1.0,>=0.34.0 in c:\\users\\hp\\appdata\\roaming\\python\\python312\\site-packages (from transformers) (0.34.3)\n",
      "Requirement already satisfied: numpy>=1.17 in c:\\users\\hp\\appdata\\roaming\\python\\python312\\site-packages (from transformers) (2.1.3)\n",
      "Requirement already satisfied: packaging>=20.0 in c:\\users\\hp\\appdata\\roaming\\python\\python312\\site-packages (from transformers) (25.0)\n",
      "Requirement already satisfied: pyyaml>=5.1 in c:\\users\\hp\\appdata\\roaming\\python\\python312\\site-packages (from transformers) (6.0.2)\n",
      "Requirement already satisfied: regex!=2019.12.17 in c:\\users\\hp\\appdata\\roaming\\python\\python312\\site-packages (from transformers) (2025.7.34)\n",
      "Requirement already satisfied: requests in c:\\users\\hp\\appdata\\roaming\\python\\python312\\site-packages (from transformers) (2.32.4)\n",
      "Requirement already satisfied: tokenizers<0.22,>=0.21 in c:\\users\\hp\\appdata\\roaming\\python\\python312\\site-packages (from transformers) (0.21.4)\n",
      "Requirement already satisfied: safetensors>=0.4.3 in c:\\users\\hp\\appdata\\roaming\\python\\python312\\site-packages (from transformers) (0.6.1)\n",
      "Requirement already satisfied: tqdm>=4.27 in c:\\users\\hp\\appdata\\roaming\\python\\python312\\site-packages (from transformers) (4.67.1)\n",
      "Requirement already satisfied: fsspec>=2023.5.0 in c:\\users\\hp\\appdata\\roaming\\python\\python312\\site-packages (from huggingface-hub<1.0,>=0.34.0->transformers) (2025.7.0)\n",
      "Requirement already satisfied: typing-extensions>=3.7.4.3 in c:\\users\\hp\\appdata\\roaming\\python\\python312\\site-packages (from huggingface-hub<1.0,>=0.34.0->transformers) (4.14.1)\n",
      "Requirement already satisfied: colorama in c:\\users\\hp\\appdata\\roaming\\python\\python312\\site-packages (from tqdm>=4.27->transformers) (0.4.6)\n",
      "Requirement already satisfied: charset_normalizer<4,>=2 in c:\\users\\hp\\appdata\\roaming\\python\\python312\\site-packages (from requests->transformers) (3.4.2)\n",
      "Requirement already satisfied: idna<4,>=2.5 in c:\\users\\hp\\appdata\\roaming\\python\\python312\\site-packages (from requests->transformers) (3.10)\n",
      "Requirement already satisfied: urllib3<3,>=1.21.1 in c:\\users\\hp\\appdata\\roaming\\python\\python312\\site-packages (from requests->transformers) (2.5.0)\n",
      "Requirement already satisfied: certifi>=2017.4.17 in c:\\users\\hp\\appdata\\roaming\\python\\python312\\site-packages (from requests->transformers) (2025.8.3)\n"
     ]
    },
    {
     "name": "stderr",
     "output_type": "stream",
     "text": [
      "\n",
      "[notice] A new release of pip is available: 25.0.1 -> 25.2\n",
      "[notice] To update, run: python.exe -m pip install --upgrade pip\n"
     ]
    }
   ],
   "source": [
    " !pip install transformers"
   ]
  },
  {
   "cell_type": "code",
   "execution_count": 17,
   "metadata": {
    "id": "py0DhKlV0-e4"
   },
   "outputs": [],
   "source": [
    "from transformers import GPT2Tokenizer, GPT2LMHeadModel"
   ]
  },
  {
   "cell_type": "code",
   "execution_count": 18,
   "metadata": {
    "colab": {
     "base_uri": "https://localhost:8080/",
     "height": 177,
     "referenced_widgets": [
      "2e5390463a914d6f94a126d37ce0b32a",
      "0340e65bc1de4de4bb4b50b59a10105a",
      "6b1e54e2503c486cb85edb47fa4b87ab",
      "2b1bb54e4f5a474a980a6c8db66fbe0c",
      "5e90820b1a3c42c7b91944155a0692c1",
      "e94b500913c847f58c7a013c012d2e29",
      "b1b1082ebd09413b9bff0785139d8c08",
      "bc24e15ca74b4826af72c3c283187035",
      "9bcc49522f5b45aa96cffad77a185087",
      "08bd319600da46a98118f6963626c9fa",
      "8c38de98695e4dc6ac0c3740cd4cc9d4",
      "2fe2b5c700ad4af6a9ee475cfe37ab78",
      "9e6b346d884442a98aaf78a89a279e82",
      "6c37f168941f49dfa08119b48c7afd9c",
      "96310f6f977c4bfcb8ed78ccbaa7cbb2",
      "e7b5a96d6b8d4f61b96ada5108784e77",
      "54d83202aeb0404caec5a7050f7372b0",
      "4a72416768ca467dab09ce9291951a5c",
      "81f667549977487987db2ba27059692c",
      "586ba6c657624ed8a020259c66c50998",
      "897713b23f774e78a3ad973fccfe9305",
      "d8f8f11240aa4de2ac5fd07b4020b51d",
      "ae0b26bd56004592a3e944ab91fb4524",
      "7dd25361b09844bf9e1af5e12eed87ab",
      "91953e0a0e0441daaa32c6ea2c447fe3",
      "45063c519032492a996837f4cd757c40",
      "cb07632a09b84048b6d30a3b7d5623cc",
      "39c82d4a96a1494d8cefddb53dd2f231",
      "75df447aaf534e429b6d6eb175b3d577",
      "28a52f3dc1b4408ebe71ea381f4a0454",
      "7c95cc8989394962b2daebeb4ad8b54b",
      "27ceec6bc2d4488ba64a1e961b383fbc",
      "78130bebee3b42fca03b1bc24840e3cc",
      "cff76da7631a444eb3ccce6afb910b16",
      "0a6f6af6407e43feafd3c3417051c494",
      "adee59d8dd644c078083316e64d491e2",
      "e56c63720bbc468b8f50c32be77d4a9d",
      "d8676b4bf0384d22aeb7b35dea704f1a",
      "f4579f5085274a0b912a144a79fce31b",
      "a491780f26be4609acac840dbe22847d",
      "04d3ab7412634ffd84acc834201085f7",
      "0317dfe9e5a3456dbe208d6470555f64",
      "5842b053e34e4b568505a47570c6c298",
      "38db28175a2f4c88a98684d78f41df80",
      "4ff26728145b45e9abea35896e742153",
      "e3a1827ec4a943c0b2267d05415dad87",
      "aaf8f5b506c147d2a78d6fc9223d97d7",
      "0ea096244b4e4ad29c8eafd5156cfae3",
      "0d3373e5c03243df8d126a20e7574fc2",
      "141502430366476ab1a64b7750c7ce1f",
      "cfbf3d22e7f64a36ba55213ccce81bb0",
      "aa239eae23f34e04a46fb7fa84cc778b",
      "d7052a0f0b334c2297c54f33c0afe12a",
      "b4fa4a352d0b491b926756be23c33bb2",
      "e47ad40d0c1b415795d3c4ec002a25ef"
     ]
    },
    "id": "BFGVbCMg1PXg",
    "outputId": "7b25fe9e-8f62-454a-bde3-3cc495e38128"
   },
   "outputs": [],
   "source": [
    "tokenizer = GPT2Tokenizer.from_pretrained('gpt2')"
   ]
  },
  {
   "cell_type": "code",
   "execution_count": 19,
   "metadata": {
    "colab": {
     "base_uri": "https://localhost:8080/",
     "height": 81,
     "referenced_widgets": [
      "7e73dc22d4f34938a0fbf1c5e5043431",
      "6ba75d04f35242e19266c8ce59237fdb",
      "5364fb30594d40e9b2bfcb7187e95aae",
      "0a71fc1aab624718b2552c0d884f4c3e",
      "bf82151b449e4646b3b59cbdd75d4531",
      "c222ea23e7754e84a13c1fc6ac1ff6c2",
      "b46ccf86617c4d22b0a6bee1c7e91a2c",
      "1d3051ee0b3c423f92cd2f0b109093a9",
      "6be6c9317e81453cacf1150d15c96c1a",
      "351af5c13862457bbbd7a07db674a671",
      "14d9b9e815914c589a9d424961839fa7",
      "e5efbd782050447eb449e0f4067f6598",
      "9af5a062dd5b4384848d739cbd8d4363",
      "9e15e449c4ed4f38ae9b392e2155e6b2",
      "75bc10d107054fe883bbc1edf9400be3",
      "59962cb3cb974038bc2a3ac31ac33c28",
      "bf48145537c3477aa8319b1f02e06e18",
      "8b8aace4b9614de8ba569fe9194e8534",
      "5135588e7ac14036802bbb344435dc7c",
      "d67a6cc310b943f89f79096725fde56a",
      "3ce3529219b342eb94364656f361c576",
      "b0503b835cbd4b1fad2610ba6f2c5c57"
     ]
    },
    "id": "LLd3vJ3x1f4K",
    "outputId": "0c98aec6-1297-4ea2-ab63-9701201cf3b3"
   },
   "outputs": [],
   "source": [
    "model = GPT2LMHeadModel.from_pretrained('gpt2', pad_token_id=tokenizer.eos_token_id)"
   ]
  },
  {
   "cell_type": "code",
   "execution_count": 20,
   "metadata": {
    "colab": {
     "base_uri": "https://localhost:8080/"
    },
    "id": "21zhrYDz2MRM",
    "outputId": "cbf81278-d685-4585-d319-ba4a85a7b9b0"
   },
   "outputs": [
    {
     "data": {
      "text/plain": [
       "50256"
      ]
     },
     "execution_count": 20,
     "metadata": {},
     "output_type": "execute_result"
    }
   ],
   "source": [
    "tokenizer.eos_token_id"
   ]
  },
  {
   "cell_type": "code",
   "execution_count": 21,
   "metadata": {
    "colab": {
     "base_uri": "https://localhost:8080/",
     "height": 36
    },
    "id": "dTk1-0fm2TEB",
    "outputId": "55bc7f38-5aa6-45da-ab66-019d4c0823a7"
   },
   "outputs": [
    {
     "data": {
      "text/plain": [
       "'<|endoftext|>'"
      ]
     },
     "execution_count": 21,
     "metadata": {},
     "output_type": "execute_result"
    }
   ],
   "source": [
    "tokenizer.decode(tokenizer.eos_token_id)"
   ]
  },
  {
   "cell_type": "code",
   "execution_count": 22,
   "metadata": {
    "id": "fW7_UE2o2ml6"
   },
   "outputs": [],
   "source": [
    "sentence = 'Yesterday I watch the movie but'\n",
    "numeric_ids = tokenizer.encode(sentence, return_tensors = 'pt')"
   ]
  },
  {
   "cell_type": "code",
   "execution_count": 23,
   "metadata": {
    "colab": {
     "base_uri": "https://localhost:8080/"
    },
    "id": "PzJJoay73ARl",
    "outputId": "c757d7fb-7bbc-43af-d6ca-d26abf8d4e53"
   },
   "outputs": [
    {
     "data": {
      "text/plain": [
       "tensor([[28065,   314,  2342,   262,  3807,   475]])"
      ]
     },
     "execution_count": 23,
     "metadata": {},
     "output_type": "execute_result"
    }
   ],
   "source": [
    "numeric_ids"
   ]
  },
  {
   "cell_type": "code",
   "execution_count": 24,
   "metadata": {
    "colab": {
     "base_uri": "https://localhost:8080/",
     "height": 36
    },
    "id": "AWwoxUFS3GTk",
    "outputId": "ab5a5c6d-395a-4e6c-de5e-9d3b07657505"
   },
   "outputs": [
    {
     "data": {
      "text/plain": [
       "'Yesterday'"
      ]
     },
     "execution_count": 24,
     "metadata": {},
     "output_type": "execute_result"
    }
   ],
   "source": [
    "tokenizer.decode(numeric_ids[0][0])"
   ]
  },
  {
   "cell_type": "code",
   "execution_count": 25,
   "metadata": {
    "colab": {
     "base_uri": "https://localhost:8080/"
    },
    "id": "Cey_6HBH3ZvL",
    "outputId": "0e372b3b-dba6-4617-fed8-9cf0387703e0"
   },
   "outputs": [],
   "source": [
    "result = model.generate(numeric_ids, max_length = 100, num_beams=5, no_repeat_ngram_size=2, early_stopping=True)"
   ]
  },
  {
   "cell_type": "code",
   "execution_count": 26,
   "metadata": {
    "colab": {
     "base_uri": "https://localhost:8080/"
    },
    "id": "mi5nPK5M4BsA",
    "outputId": "780906e3-ae9e-4ac1-e1fd-a8da9c4d2826"
   },
   "outputs": [
    {
     "data": {
      "text/plain": [
       "tensor([[28065,   314,  2342,   262,  3807,   475,   314,   836,   470,   760,\n",
       "           644,   284,   466,   351,   340,    13,   314,  1101,   407,  1654,\n",
       "           611,   314,   765,   284,  2342,   340,   393,   407,   526,   198,\n",
       "           198,     1,    40,   892,   340,   338,  1016,   284,   307,  3499,\n",
       "           284,   766,   644,  4325,  1306,   553,   339,   531,    13,   366,\n",
       "            40,  1101,  1654,   340,   481,   307,   257,  1256,   286,  1257,\n",
       "            13,   632,   338,   587,   257,   890,   640,  1201,   314,  1053,\n",
       "          1775,  1997,   588,   428,   526, 50256]])"
      ]
     },
     "execution_count": 26,
     "metadata": {},
     "output_type": "execute_result"
    }
   ],
   "source": [
    "result"
   ]
  },
  {
   "cell_type": "code",
   "execution_count": 27,
   "metadata": {},
   "outputs": [
    {
     "name": "stdout",
     "output_type": "stream",
     "text": [
      "Yesterday I watch the movie but I don't know what to do with it. I'm not sure if I want to watch it or not.\"\n",
      "\n",
      "\"I think it's going to be interesting to see what happens next,\" he said. \"I'm sure it will be a lot of fun. It's been a long time since I've seen anything like this.\"\n"
     ]
    }
   ],
   "source": [
    "generated_text = tokenizer.decode(result[0], skip_special_tokens=True)\n",
    "print(generated_text)"
   ]
  }
 ],
 "metadata": {
  "accelerator": "GPU",
  "colab": {
   "gpuType": "T4",
   "provenance": []
  },
  "kernelspec": {
   "display_name": "Python 3",
   "name": "python3"
  },
  "language_info": {
   "codemirror_mode": {
    "name": "ipython",
    "version": 3
   },
   "file_extension": ".py",
   "mimetype": "text/x-python",
   "name": "python",
   "nbconvert_exporter": "python",
   "pygments_lexer": "ipython3",
   "version": "3.12.10"
  }
 },
 "nbformat": 4,
 "nbformat_minor": 0
}